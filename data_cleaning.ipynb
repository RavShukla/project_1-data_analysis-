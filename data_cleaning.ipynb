{
 "cells": [
  {
   "cell_type": "code",
   "execution_count": 9,
   "id": "718f2d7e-2f67-4c92-b34a-df5b35501105",
   "metadata": {},
   "outputs": [
    {
     "name": "stdout",
     "output_type": "stream",
     "text": [
      "data was dumped successfully\n"
     ]
    }
   ],
   "source": [
    "import json\n",
    "def clean_data(data):\n",
    "    #remove the missing names\n",
    "    data[\"users\"]=[user for user in data[\"users\"] if user[\"name\"].strip()]\n",
    "\n",
    "    #remove duplicate friends\n",
    "    for user in data[\"users\"]:\n",
    "        user[\"friends\"] = list(set(user[\"friends\"]))\n",
    "\n",
    "        \n",
    "    #remove inactive users\n",
    "    data[\"users\"] = [user for user in data[\"users\"] if user[\"friends\"] or user[\"liked_pages\"]]\n",
    "\n",
    "    # Remove duplicate pages\n",
    "    unique_pages = {}\n",
    "    for page in data[\"pages\"]:\n",
    "        unique_pages[page[\"id\"]] = page\n",
    "    data[\"pages\"] = list(unique_pages.values())\n",
    "\n",
    "        \n",
    "\n",
    "    \n",
    "    return data\n",
    "\n",
    "#loading the data\n",
    "data = json.load(open(\"data2.json\"))\n",
    "data = clean_data(data)\n",
    "json.dump(data,open(\"cleaned_data2.json\",\"w\") , indent=4)\n",
    "print(\"data was dumped successfully\")"
   ]
  },
  {
   "cell_type": "code",
   "execution_count": null,
   "id": "c004d66d-f67e-4e0d-8ba0-21fc91038261",
   "metadata": {},
   "outputs": [],
   "source": []
  }
 ],
 "metadata": {
  "kernelspec": {
   "display_name": "Python 3 (ipykernel)",
   "language": "python",
   "name": "python3"
  },
  "language_info": {
   "codemirror_mode": {
    "name": "ipython",
    "version": 3
   },
   "file_extension": ".py",
   "mimetype": "text/x-python",
   "name": "python",
   "nbconvert_exporter": "python",
   "pygments_lexer": "ipython3",
   "version": "3.13.5"
  }
 },
 "nbformat": 4,
 "nbformat_minor": 5
}
