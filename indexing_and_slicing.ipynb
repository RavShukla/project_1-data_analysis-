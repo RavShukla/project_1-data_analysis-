{
 "cells": [
  {
   "cell_type": "code",
   "execution_count": 2,
   "id": "f354ab6b-f078-4c22-b126-e362c048581d",
   "metadata": {},
   "outputs": [
    {
     "name": "stdout",
     "output_type": "stream",





     "text": [
      "[[ 1  2  3]\n",
      " [ 4  5  6]\n",
      " [ 7  8  9]\n",
      " [10 11 12]]\n"
     ]
    }
   ],
   "source": [
    "import numpy as np\n",
    "\n",
    "arr = np.array([[1,2,3],[4,5,6],[7,8,9],[10,11,12]])\n",
    "print(arr)"
   ]
  },
  {
   "cell_type": "code",
   "execution_count": 3,
   "id": "be289dfb-c6a1-4b9f-85f2-39b022a93b9f",
   "metadata": {},
   "outputs": [],
   "source": [
    "flat = arr.flatten()"
   ]
  },
  {
   "cell_type": "code",
   "execution_count": 5,
   "id": "5c24e8c7-a44a-44ff-8afe-ad61d3d1cb63",
   "metadata": {},
   "outputs": [
    {
     "data": {
      "text/plain": [
       "array([ 1,  2,  3,  4,  5,  6,  7,  8,  9, 10, 11, 12])"
      ]
     },
     "execution_count": 5,
     "metadata": {},
     "output_type": "execute_result"
    }
   ],
   "source": [
    "flat"
   ]
  },
  {
   "cell_type": "code",
   "execution_count": 7,
   "id": "d605e8fc-6667-4cad-812d-03e84893af19",
   "metadata": {},
   "outputs": [
    {
     "data": {
      "text/plain": [
       "np.int64(1)"
      ]
     },
     "execution_count": 7,
     "metadata": {},
     "output_type": "execute_result"
    }
   ],
   "source": [
    "flat[0]"
   ]
  },
  {
   "cell_type": "code",
   "execution_count": 8,
   "id": "081cc96e-0b29-4b0f-a0f0-bf20842d4abc",
   "metadata": {},
   "outputs": [
    {
     "data": {
      "text/plain": [
       "array([4, 5, 6])"
      ]
     },
     "execution_count": 8,
     "metadata": {},
     "output_type": "execute_result"
    }
   ],
   "source": [
    "flat[3:6]"
   ]
  },
  {
   "cell_type": "code",
   "execution_count": 9,
   "id": "b567460f-fe69-4578-af0f-ab1f2f49c9c5",
   "metadata": {},
   "outputs": [
    {
     "data": {
      "text/plain": [
       "array([1, 2, 3, 4, 5])"
      ]
     },
     "execution_count": 9,
     "metadata": {},
     "output_type": "execute_result"
    }
   ],
   "source": [
    "flat[:5]"
   ]
  },
  {
   "cell_type": "code",
   "execution_count": 11,
   "id": "59ed33c1-bf43-4671-a21a-95a2a4562130",
   "metadata": {},
   "outputs": [
    {
     "name": "stdout",
     "output_type": "stream",
     "text": [
      "[ 1  3  5  7  9 11]\n"
     ]
    }
   ],
   "source": [
    "print(flat[::2])"
   ]
  },
  {
   "cell_type": "code",
   "execution_count": null,
   "id": "70989998-4e12-493f-9d7f-692fbfc3197f",
   "metadata": {},
   "outputs": [],
   "source": []
  }
 ],
 "metadata": {
  "kernelspec": {
   "display_name": "Python 3 (ipykernel)",
   "language": "python",
   "name": "python3"
  },
  "language_info": {
   "codemirror_mode": {
    "name": "ipython",
    "version": 3
   },
   "file_extension": ".py",
   "mimetype": "text/x-python",
   "name": "python",
   "nbconvert_exporter": "python",
   "pygments_lexer": "ipython3",
   "version": "3.13.5"
  }
 },
 "nbformat": 4,
 "nbformat_minor": 5
}
